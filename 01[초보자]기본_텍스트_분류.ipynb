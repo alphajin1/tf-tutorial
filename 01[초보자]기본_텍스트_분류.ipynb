{
 "cells": [
  {
   "cell_type": "markdown",
   "id": "79a23e05-ac86-423a-825c-9ebd9d1150ae",
   "metadata": {},
   "source": [
    "# [영화 리뷰를 사용한 텍스트 분류](https://www.tensorflow.org/tutorials/keras/text_classification?hl=ko)"
   ]
  },
  {
   "cell_type": "code",
   "execution_count": 1,
   "id": "6eb4fcb6-caa6-4b4f-8314-52dc6e3de026",
   "metadata": {},
   "outputs": [
    {
     "name": "stdout",
     "output_type": "stream",
     "text": [
      "2.4.1\n"
     ]
    }
   ],
   "source": [
    "import tensorflow as tf\n",
    "from tensorflow import keras\n",
    "\n",
    "import numpy as np\n",
    "\n",
    "print(tf.__version__)"
   ]
  },
  {
   "cell_type": "code",
   "execution_count": 4,
   "id": "3f0aac28-703a-4d1c-878d-16819e6eff05",
   "metadata": {},
   "outputs": [
    {
     "data": {
      "text/plain": [
       "(((25000,), (25000,)), ((25000,), (25000,)))"
      ]
     },
     "execution_count": 4,
     "metadata": {},
     "output_type": "execute_result"
    }
   ],
   "source": [
    "# IMDB 데이터셋 다운로드\n",
    "imdb = keras.datasets.imdb\n",
    "\n",
    "(train_data, train_labels), (test_data, test_labels) = imdb.load_data(num_words=10000)\n",
    "(train_data.shape, train_labels.shape), (test_data.shape, test_labels.shape)"
   ]
  },
  {
   "cell_type": "code",
   "execution_count": 5,
   "id": "c85beceb-00e3-4363-b4f2-2adba548f321",
   "metadata": {},
   "outputs": [
    {
     "name": "stdout",
     "output_type": "stream",
     "text": [
      "훈련 샘플: 25000, 레이블: 25000\n"
     ]
    }
   ],
   "source": [
    "# EDA\n",
    "print(\"훈련 샘플: {}, 레이블: {}\".format(len(train_data), len(train_labels)))"
   ]
  },
  {
   "cell_type": "code",
   "execution_count": 6,
   "id": "385defbf-adae-47dc-94ea-28ead6233c67",
   "metadata": {},
   "outputs": [
    {
     "name": "stdout",
     "output_type": "stream",
     "text": [
      "[1, 14, 22, 16, 43, 530, 973, 1622, 1385, 65, 458, 4468, 66, 3941, 4, 173, 36, 256, 5, 25, 100, 43, 838, 112, 50, 670, 2, 9, 35, 480, 284, 5, 150, 4, 172, 112, 167, 2, 336, 385, 39, 4, 172, 4536, 1111, 17, 546, 38, 13, 447, 4, 192, 50, 16, 6, 147, 2025, 19, 14, 22, 4, 1920, 4613, 469, 4, 22, 71, 87, 12, 16, 43, 530, 38, 76, 15, 13, 1247, 4, 22, 17, 515, 17, 12, 16, 626, 18, 2, 5, 62, 386, 12, 8, 316, 8, 106, 5, 4, 2223, 5244, 16, 480, 66, 3785, 33, 4, 130, 12, 16, 38, 619, 5, 25, 124, 51, 36, 135, 48, 25, 1415, 33, 6, 22, 12, 215, 28, 77, 52, 5, 14, 407, 16, 82, 2, 8, 4, 107, 117, 5952, 15, 256, 4, 2, 7, 3766, 5, 723, 36, 71, 43, 530, 476, 26, 400, 317, 46, 7, 4, 2, 1029, 13, 104, 88, 4, 381, 15, 297, 98, 32, 2071, 56, 26, 141, 6, 194, 7486, 18, 4, 226, 22, 21, 134, 476, 26, 480, 5, 144, 30, 5535, 18, 51, 36, 28, 224, 92, 25, 104, 4, 226, 65, 16, 38, 1334, 88, 12, 16, 283, 5, 16, 4472, 113, 103, 32, 15, 16, 5345, 19, 178, 32]\n"
     ]
    }
   ],
   "source": [
    "# Sample\n",
    "print(train_data[0])"
   ]
  },
  {
   "cell_type": "code",
   "execution_count": 7,
   "id": "622cbe1d-8ea6-475b-b1cd-c081cd4bd9d7",
   "metadata": {},
   "outputs": [
    {
     "data": {
      "text/plain": [
       "(218, 189)"
      ]
     },
     "execution_count": 7,
     "metadata": {},
     "output_type": "execute_result"
    }
   ],
   "source": [
    "# 영화 리뷰들은 길이가 다르다.\n",
    "len(train_data[0]), len(train_data[1])"
   ]
  },
  {
   "cell_type": "code",
   "execution_count": 11,
   "id": "536a6af5-036e-4b00-b5ed-f4e9ec4439a1",
   "metadata": {},
   "outputs": [],
   "source": [
    "# 정수를 단어로 다시 변환\n",
    "# 단어와 정수 인덱스를 매핑한 딕셔너리\n",
    "word_index = imdb.get_word_index()\n",
    "\n",
    "# TODO 이 기법이 자주 쓰이는 듯하다.\n",
    "# 처음 몇 개 인덱스는 사전에 정의되어 있습니다\n",
    "word_index = {k:(v+3) for k,v in word_index.items()}\n",
    "word_index[\"<PAD>\"] = 0\n",
    "word_index[\"<START>\"] = 1\n",
    "word_index[\"<UNK>\"] = 2  # unknown\n",
    "word_index[\"<UNUSED>\"] = 3\n",
    "\n",
    "reverse_word_index = dict([(value, key) for (key, value) in word_index.items()])\n",
    "\n",
    "def decode_review(text):\n",
    "    return ' '.join([reverse_word_index.get(i, '?') for i in text])"
   ]
  },
  {
   "cell_type": "code",
   "execution_count": 12,
   "id": "3b8cfa98-ed83-4124-ab5a-0a81bd77d232",
   "metadata": {},
   "outputs": [
    {
     "data": {
      "text/plain": [
       "\"<START> this film was just brilliant casting location scenery story direction everyone's really suited the part they played and you could just imagine being there robert <UNK> is an amazing actor and now the same being director <UNK> father came from the same scottish island as myself so i loved the fact there was a real connection with this film the witty remarks throughout the film were great it was just brilliant so much that i bought the film as soon as it was released for <UNK> and would recommend it to everyone to watch and the fly fishing was amazing really cried at the end it was so sad and you know what they say if you cry at a film it must have been good and this definitely was also <UNK> to the two little boy's that played the <UNK> of norman and paul they were just brilliant children are often left out of the <UNK> list i think because the stars that play them all grown up are such a big profile for the whole film but these children are amazing and should be praised for what they have done don't you think the whole story was so lovely because it was true and was someone's life after all that was shared with us all\""
      ]
     },
     "execution_count": 12,
     "metadata": {},
     "output_type": "execute_result"
    }
   ],
   "source": [
    "decode_review(train_data[0])"
   ]
  },
  {
   "cell_type": "markdown",
   "id": "64fedcb3-9664-4666-ae1c-7d57a19c1018",
   "metadata": {},
   "source": [
    "## 데이터 준비\n",
    "리뷰-정수 배열을 신경망에 주입하기 전에 Tensor로 변환이 필요하다. 2가지 방법이 있다.\n",
    "1. one-hot (Large Memory)\n",
    "2. padding 추가 (이런 형태의 Tensor를 Embedding츠엥서 다룰 수 있음)\n",
    "\n",
    "여기서는 2번 방법을 사용한다. "
   ]
  },
  {
   "cell_type": "code",
   "execution_count": 18,
   "id": "5db7ee8e-b9cd-4f4c-8128-cb066c3ab870",
   "metadata": {},
   "outputs": [],
   "source": [
    "# keras.preprocessing.sequence !\n",
    "train_data = keras.preprocessing.sequence.pad_sequences(train_data,\n",
    "                                                        value=word_index[\"<PAD>\"],\n",
    "                                                        padding='post',\n",
    "                                                        maxlen=256)\n",
    "\n",
    "test_data = keras.preprocessing.sequence.pad_sequences(test_data,\n",
    "                                                       value=word_index[\"<PAD>\"],\n",
    "                                                       padding='post',\n",
    "                                                       maxlen=256)"
   ]
  },
  {
   "cell_type": "code",
   "execution_count": 19,
   "id": "47b5a297-4177-4fbd-a2ff-91c7ae40550c",
   "metadata": {},
   "outputs": [
    {
     "data": {
      "text/plain": [
       "(256, 256)"
      ]
     },
     "execution_count": 19,
     "metadata": {},
     "output_type": "execute_result"
    }
   ],
   "source": [
    "# 전처리된 샘플의 길이\n",
    "len(train_data[0]), len(train_data[1])"
   ]
  },
  {
   "cell_type": "code",
   "execution_count": 20,
   "id": "13c0f931-6973-4575-ac32-e4ea8e055458",
   "metadata": {},
   "outputs": [
    {
     "name": "stdout",
     "output_type": "stream",
     "text": [
      "[   1   14   22   16   43  530  973 1622 1385   65  458 4468   66 3941\n",
      "    4  173   36  256    5   25  100   43  838  112   50  670    2    9\n",
      "   35  480  284    5  150    4  172  112  167    2  336  385   39    4\n",
      "  172 4536 1111   17  546   38   13  447    4  192   50   16    6  147\n",
      " 2025   19   14   22    4 1920 4613  469    4   22   71   87   12   16\n",
      "   43  530   38   76   15   13 1247    4   22   17  515   17   12   16\n",
      "  626   18    2    5   62  386   12    8  316    8  106    5    4 2223\n",
      " 5244   16  480   66 3785   33    4  130   12   16   38  619    5   25\n",
      "  124   51   36  135   48   25 1415   33    6   22   12  215   28   77\n",
      "   52    5   14  407   16   82    2    8    4  107  117 5952   15  256\n",
      "    4    2    7 3766    5  723   36   71   43  530  476   26  400  317\n",
      "   46    7    4    2 1029   13  104   88    4  381   15  297   98   32\n",
      " 2071   56   26  141    6  194 7486   18    4  226   22   21  134  476\n",
      "   26  480    5  144   30 5535   18   51   36   28  224   92   25  104\n",
      "    4  226   65   16   38 1334   88   12   16  283    5   16 4472  113\n",
      "  103   32   15   16 5345   19  178   32    0    0    0    0    0    0\n",
      "    0    0    0    0    0    0    0    0    0    0    0    0    0    0\n",
      "    0    0    0    0    0    0    0    0    0    0    0    0    0    0\n",
      "    0    0    0    0]\n"
     ]
    }
   ],
   "source": [
    "# 패딩된 첫번째 리뷰내용 확인\n",
    "print(train_data[0])"
   ]
  },
  {
   "cell_type": "markdown",
   "id": "ba61da1a-5a03-4c21-b241-0a07098d87d3",
   "metadata": {},
   "source": [
    "## 모델 구성\n",
    "2가지를 결정해야 한다.\n",
    "* 모델에서 얼마나 많은 층을 사용할 것인가?\n",
    "* 각 층에서 얼마나 많은 은닉 유닛을 사용할 것인가?"
   ]
  },
  {
   "cell_type": "code",
   "execution_count": 23,
   "id": "3846ead3-ab49-43a4-9864-d97c23329f8f",
   "metadata": {},
   "outputs": [
    {
     "name": "stdout",
     "output_type": "stream",
     "text": [
      "Model: \"sequential_3\"\n",
      "_________________________________________________________________\n",
      "Layer (type)                 Output Shape              Param #   \n",
      "=================================================================\n",
      "embedding_3 (Embedding)      (None, None, 16)          160000    \n",
      "_________________________________________________________________\n",
      "global_average_pooling1d_3 ( (None, 16)                0         \n",
      "_________________________________________________________________\n",
      "dense_6 (Dense)              (None, 16)                272       \n",
      "_________________________________________________________________\n",
      "dense_7 (Dense)              (None, 1)                 17        \n",
      "=================================================================\n",
      "Total params: 160,289\n",
      "Trainable params: 160,289\n",
      "Non-trainable params: 0\n",
      "_________________________________________________________________\n"
     ]
    }
   ],
   "source": [
    "# 메모리를 줄이는 기법에 가까운듯...\n",
    "# 입력 크기는 영화 리뷰 데이터셋에 적용된 어휘 사전의 크기입니다(10,000개의 단어)\n",
    "vocab_size = 10000\n",
    "\n",
    "model = keras.Sequential()\n",
    "# input_shape을 256을 입력하면, (batch, sequence, embedding) 에서 sequence가 256으로 바뀜\n",
    "model.add(keras.layers.Embedding(vocab_size, 16, input_shape=(None,))) \n",
    "model.add(keras.layers.GlobalAveragePooling1D())\n",
    "model.add(keras.layers.Dense(16, activation='relu'))\n",
    "model.add(keras.layers.Dense(1, activation='sigmoid'))\n",
    "\n",
    "model.summary()"
   ]
  },
  {
   "cell_type": "markdown",
   "id": "0955839e-42f7-432c-a1e0-0ecb89de510b",
   "metadata": {},
   "source": [
    "층을 순서대로 쌓아 분류기(classifier)를 만듭니다:\n",
    "\n",
    "1. 첫 번째 층은 Embedding 층입니다. 이 층은 정수로 인코딩된 단어를 입력 받고 각 단어 인덱스에 해당하는 임베딩 벡터를 찾습니다. 이 벡터는 모델이 훈련되면서 학습됩니다. 이 벡터는 출력 배열에 새로운 차원으로 추가됩니다. 최종 차원은 (batch, sequence, embedding)이 됩니다.\n",
    "2. 그다음 GlobalAveragePooling1D 층은 sequence 차원에 대해 평균을 계산하여 각 샘플에 대해 고정된 길이의 출력 벡터를 반환합니다. 이는 길이가 다른 입력을 다루는 가장 간단한 방법입니다.\n",
    "3. 이 고정 길이의 출력 벡터는 16개의 은닉 유닛을 가진 완전 연결(fully-connected) 층(Dense)을 거칩니다.\n",
    "4. 마지막 층은 하나의 출력 노드(node)를 가진 완전 연결 층입니다. sigmoid 활성화 함수를 사용하여 0과 1 사이의 실수를 출력합니다. 이 값은 확률 또는 신뢰도를 나타냅니다."
   ]
  },
  {
   "cell_type": "code",
   "execution_count": 24,
   "id": "86794374-c698-46a8-9d3d-7bdd133ac370",
   "metadata": {},
   "outputs": [],
   "source": [
    "model.compile(optimizer='adam',\n",
    "              loss='binary_crossentropy',\n",
    "              metrics=['accuracy'])"
   ]
  },
  {
   "cell_type": "code",
   "execution_count": 25,
   "id": "3525009e-5eeb-46af-9581-4b4e541dab39",
   "metadata": {},
   "outputs": [],
   "source": [
    "# Validation Set 생성\n",
    "x_val = train_data[:10000]\n",
    "partial_x_train = train_data[10000:]\n",
    "\n",
    "y_val = train_labels[:10000]\n",
    "partial_y_train = train_labels[10000:]"
   ]
  },
  {
   "cell_type": "code",
   "execution_count": 26,
   "id": "c98531b6-667a-4674-ae22-a06f6282e634",
   "metadata": {},
   "outputs": [
    {
     "name": "stdout",
     "output_type": "stream",
     "text": [
      "Epoch 1/40\n",
      "30/30 [==============================] - 2s 24ms/step - loss: 0.6925 - accuracy: 0.5131 - val_loss: 0.6897 - val_accuracy: 0.6878\n",
      "Epoch 2/40\n",
      "30/30 [==============================] - 0s 10ms/step - loss: 0.6875 - accuracy: 0.6821 - val_loss: 0.6817 - val_accuracy: 0.7198\n",
      "Epoch 3/40\n",
      "30/30 [==============================] - 0s 10ms/step - loss: 0.6768 - accuracy: 0.7340 - val_loss: 0.6665 - val_accuracy: 0.7379\n",
      "Epoch 4/40\n",
      "30/30 [==============================] - 0s 10ms/step - loss: 0.6577 - accuracy: 0.7582 - val_loss: 0.6424 - val_accuracy: 0.7469\n",
      "Epoch 5/40\n",
      "30/30 [==============================] - 0s 10ms/step - loss: 0.6277 - accuracy: 0.7783 - val_loss: 0.6095 - val_accuracy: 0.7810\n",
      "Epoch 6/40\n",
      "30/30 [==============================] - 0s 10ms/step - loss: 0.5890 - accuracy: 0.8031 - val_loss: 0.5715 - val_accuracy: 0.7945\n",
      "Epoch 7/40\n",
      "30/30 [==============================] - 0s 10ms/step - loss: 0.5495 - accuracy: 0.8116 - val_loss: 0.5296 - val_accuracy: 0.8185\n",
      "Epoch 8/40\n",
      "30/30 [==============================] - 0s 10ms/step - loss: 0.5011 - accuracy: 0.8390 - val_loss: 0.4885 - val_accuracy: 0.8324\n",
      "Epoch 9/40\n",
      "30/30 [==============================] - 0s 10ms/step - loss: 0.4576 - accuracy: 0.8555 - val_loss: 0.4511 - val_accuracy: 0.8427\n",
      "Epoch 10/40\n",
      "30/30 [==============================] - 0s 10ms/step - loss: 0.4154 - accuracy: 0.8704 - val_loss: 0.4197 - val_accuracy: 0.8489\n",
      "Epoch 11/40\n",
      "30/30 [==============================] - 0s 10ms/step - loss: 0.3781 - accuracy: 0.8827 - val_loss: 0.3928 - val_accuracy: 0.8594\n",
      "Epoch 12/40\n",
      "30/30 [==============================] - 0s 10ms/step - loss: 0.3533 - accuracy: 0.8856 - val_loss: 0.3731 - val_accuracy: 0.8617\n",
      "Epoch 13/40\n",
      "30/30 [==============================] - 0s 10ms/step - loss: 0.3253 - accuracy: 0.8913 - val_loss: 0.3540 - val_accuracy: 0.8686\n",
      "Epoch 14/40\n",
      "30/30 [==============================] - 0s 10ms/step - loss: 0.3005 - accuracy: 0.9023 - val_loss: 0.3405 - val_accuracy: 0.8735\n",
      "Epoch 15/40\n",
      "30/30 [==============================] - 0s 10ms/step - loss: 0.2808 - accuracy: 0.9064 - val_loss: 0.3292 - val_accuracy: 0.8753\n",
      "Epoch 16/40\n",
      "30/30 [==============================] - 0s 10ms/step - loss: 0.2683 - accuracy: 0.9079 - val_loss: 0.3199 - val_accuracy: 0.8782\n",
      "Epoch 17/40\n",
      "30/30 [==============================] - 0s 10ms/step - loss: 0.2518 - accuracy: 0.9138 - val_loss: 0.3123 - val_accuracy: 0.8798\n",
      "Epoch 18/40\n",
      "30/30 [==============================] - 0s 10ms/step - loss: 0.2393 - accuracy: 0.9195 - val_loss: 0.3063 - val_accuracy: 0.8796\n",
      "Epoch 19/40\n",
      "30/30 [==============================] - 0s 10ms/step - loss: 0.2263 - accuracy: 0.9250 - val_loss: 0.3010 - val_accuracy: 0.8817\n",
      "Epoch 20/40\n",
      "30/30 [==============================] - 0s 10ms/step - loss: 0.2180 - accuracy: 0.9258 - val_loss: 0.2969 - val_accuracy: 0.8821\n",
      "Epoch 21/40\n",
      "30/30 [==============================] - 0s 10ms/step - loss: 0.2074 - accuracy: 0.9269 - val_loss: 0.2938 - val_accuracy: 0.8834\n",
      "Epoch 22/40\n",
      "30/30 [==============================] - 0s 10ms/step - loss: 0.1946 - accuracy: 0.9367 - val_loss: 0.2921 - val_accuracy: 0.8830\n",
      "Epoch 23/40\n",
      "30/30 [==============================] - 0s 10ms/step - loss: 0.1892 - accuracy: 0.9364 - val_loss: 0.2894 - val_accuracy: 0.8847\n",
      "Epoch 24/40\n",
      "30/30 [==============================] - 0s 10ms/step - loss: 0.1799 - accuracy: 0.9407 - val_loss: 0.2876 - val_accuracy: 0.8853\n",
      "Epoch 25/40\n",
      "30/30 [==============================] - 0s 10ms/step - loss: 0.1713 - accuracy: 0.9433 - val_loss: 0.2869 - val_accuracy: 0.8846\n",
      "Epoch 26/40\n",
      "30/30 [==============================] - 0s 10ms/step - loss: 0.1620 - accuracy: 0.9504 - val_loss: 0.2863 - val_accuracy: 0.8859\n",
      "Epoch 27/40\n",
      "30/30 [==============================] - 0s 10ms/step - loss: 0.1544 - accuracy: 0.9515 - val_loss: 0.2867 - val_accuracy: 0.8858\n",
      "Epoch 28/40\n",
      "30/30 [==============================] - 0s 10ms/step - loss: 0.1493 - accuracy: 0.9553 - val_loss: 0.2869 - val_accuracy: 0.8865\n",
      "Epoch 29/40\n",
      "30/30 [==============================] - 0s 10ms/step - loss: 0.1432 - accuracy: 0.9570 - val_loss: 0.2883 - val_accuracy: 0.8856\n",
      "Epoch 30/40\n",
      "30/30 [==============================] - 0s 10ms/step - loss: 0.1373 - accuracy: 0.9595 - val_loss: 0.2881 - val_accuracy: 0.8871\n",
      "Epoch 31/40\n",
      "30/30 [==============================] - 0s 10ms/step - loss: 0.1325 - accuracy: 0.9622 - val_loss: 0.2892 - val_accuracy: 0.8870\n",
      "Epoch 32/40\n",
      "30/30 [==============================] - 0s 10ms/step - loss: 0.1305 - accuracy: 0.9607 - val_loss: 0.2906 - val_accuracy: 0.8868\n",
      "Epoch 33/40\n",
      "30/30 [==============================] - 0s 10ms/step - loss: 0.1222 - accuracy: 0.9664 - val_loss: 0.2923 - val_accuracy: 0.8864\n",
      "Epoch 34/40\n",
      "30/30 [==============================] - 0s 10ms/step - loss: 0.1182 - accuracy: 0.9668 - val_loss: 0.2943 - val_accuracy: 0.8862\n",
      "Epoch 35/40\n",
      "30/30 [==============================] - 0s 10ms/step - loss: 0.1135 - accuracy: 0.9691 - val_loss: 0.2969 - val_accuracy: 0.8861\n",
      "Epoch 36/40\n",
      "30/30 [==============================] - 0s 10ms/step - loss: 0.1100 - accuracy: 0.9698 - val_loss: 0.3000 - val_accuracy: 0.8843\n",
      "Epoch 37/40\n",
      "30/30 [==============================] - 0s 10ms/step - loss: 0.1069 - accuracy: 0.9714 - val_loss: 0.3018 - val_accuracy: 0.8849\n",
      "Epoch 38/40\n",
      "30/30 [==============================] - 0s 11ms/step - loss: 0.0996 - accuracy: 0.9733 - val_loss: 0.3041 - val_accuracy: 0.8853\n",
      "Epoch 39/40\n",
      "30/30 [==============================] - 0s 11ms/step - loss: 0.0951 - accuracy: 0.9742 - val_loss: 0.3068 - val_accuracy: 0.8838\n",
      "Epoch 40/40\n",
      "30/30 [==============================] - 0s 10ms/step - loss: 0.0925 - accuracy: 0.9767 - val_loss: 0.3105 - val_accuracy: 0.8843\n"
     ]
    }
   ],
   "source": [
    "# Model train\n",
    "history = model.fit(partial_x_train,\n",
    "                    partial_y_train,\n",
    "                    epochs=40,\n",
    "                    batch_size=512,\n",
    "                    validation_data=(x_val, y_val),\n",
    "                    verbose=1)"
   ]
  },
  {
   "cell_type": "code",
   "execution_count": 29,
   "id": "7d00c80f-3000-4a38-a166-08d3adeacf8a",
   "metadata": {},
   "outputs": [
    {
     "name": "stdout",
     "output_type": "stream",
     "text": [
      "782/782 - 1s - loss: 0.3313 - accuracy: 0.8716\n",
      "[0.3313167989253998, 0.8715999722480774]\n"
     ]
    }
   ],
   "source": [
    "# Model Eval.\n",
    "# 이 예제는 매우 단순한 방식을 사용하므로 87% 정도의 정확도를 달성했습니다. \n",
    "# 고급 방법을 사용한 모델은 95%에 가까운 정확도를 얻습니다.\n",
    "results = model.evaluate(test_data,  test_labels, verbose=2)\n",
    "\n",
    "print(results)"
   ]
  },
  {
   "cell_type": "code",
   "execution_count": 31,
   "id": "eaf17473-a8cc-45f0-8e26-934127c3ff48",
   "metadata": {},
   "outputs": [
    {
     "data": {
      "text/plain": [
       "dict_keys(['loss', 'accuracy', 'val_loss', 'val_accuracy'])"
      ]
     },
     "execution_count": 31,
     "metadata": {},
     "output_type": "execute_result"
    }
   ],
   "source": [
    "# model.fit()은 History 객체를 반환합니다. \n",
    "# 여기에는 훈련하는 동안 일어난 모든 정보가 담긴 딕셔너리(dictionary)가 들어 있습니다:\n",
    "history_dict = history.history\n",
    "history_dict.keys()"
   ]
  },
  {
   "cell_type": "code",
   "execution_count": 32,
   "id": "90817af9-7326-4cca-8502-09e961ed094f",
   "metadata": {},
   "outputs": [
    {
     "data": {
      "image/png": "[encoded data removed]",
      "text/plain": [
       "<Figure size 432x288 with 1 Axes>"
      ]
     },
     "metadata": {
      "needs_background": "light"
     },
     "output_type": "display_data"
    }
   ],
   "source": [
    "import matplotlib.pyplot as plt\n",
    "\n",
    "acc = history_dict['accuracy']\n",
    "val_acc = history_dict['val_accuracy']\n",
    "loss = history_dict['loss']\n",
    "val_loss = history_dict['val_loss']\n",
    "\n",
    "epochs = range(1, len(acc) + 1)\n",
    "\n",
    "# \"bo\"는 \"파란색 점\"입니다\n",
    "plt.plot(epochs, loss, 'bo', label='Training loss')\n",
    "# b는 \"파란 실선\"입니다\n",
    "plt.plot(epochs, val_loss, 'b', label='Validation loss')\n",
    "plt.title('Training and validation loss')\n",
    "plt.xlabel('Epochs')\n",
    "plt.ylabel('Loss')\n",
    "plt.legend()\n",
    "\n",
    "plt.show()"
   ]
  },
  {
   "cell_type": "code",
   "execution_count": 33,
   "id": "f0d0359e-09da-4ddc-9675-a11f4845993c",
   "metadata": {},
   "outputs": [
    {
     "data": {
      "image/png": "[encoded data removed]",
      "text/plain": [
       "<Figure size 432x288 with 1 Axes>"
      ]
     },
     "metadata": {
      "needs_background": "light"
     },
     "output_type": "display_data"
    }
   ],
   "source": [
    "plt.clf()   # 그림을 초기화합니다\n",
    "\n",
    "plt.plot(epochs, acc, 'bo', label='Training acc')\n",
    "plt.plot(epochs, val_acc, 'b', label='Validation acc')\n",
    "plt.title('Training and validation accuracy')\n",
    "plt.xlabel('Epochs')\n",
    "plt.ylabel('Accuracy')\n",
    "plt.legend()\n",
    "\n",
    "plt.show()"
   ]
  },
  {
   "cell_type": "markdown",
   "id": "c8b6ab0a-2b71-4ffc-86c2-fa76a13f3789",
   "metadata": {},
   "source": [
    "이 그래프에서 점선은 훈련 손실과 훈련 정확도를 나타냅니다. 실선은 검증 손실과 검증 정확도입니다.\n",
    "\n",
    "훈련 손실은 에포크마다 감소하고 훈련 정확도는 증가한다는 것을 주목하세요. 경사 하강법 최적화를 사용할 때 볼 수 있는 현상입니다. 매 반복마다 최적화 대상의 값을 최소화합니다.\n",
    "\n",
    "하지만 검증 손실과 검증 정확도에서는 그렇지 못합니다. 약 20번째 에포크 이후가 최적점인 것 같습니다. 이는 과대적합 때문입니다. 이전에 본 적 없는 데이터보다 훈련 데이터에서 더 잘 동작합니다. 이 지점부터는 모델이 과도하게 최적화되어 테스트 데이터에서 일반화되기 어려운 훈련 데이터의 특정 표현을 학습합니다.\n",
    "\n",
    "여기에서는 과대적합을 막기 위해 단순히 20번째 에포크 근처에서 훈련을 멈출 수 있습니다. 나중에 콜백(callback)을 사용하여 자동으로 이렇게 하는 방법을 배워 보겠습니다.\n",
    "\n",
    "\n"
   ]
  },
  {
   "cell_type": "code",
   "execution_count": null,
   "id": "e13dccb2-fa32-4c61-b02b-7273041b437b",
   "metadata": {},
   "outputs": [],
   "source": []
  }
 ],
 "metadata": {
  "kernelspec": {
   "display_name": "Python 3",
   "language": "python",
   "name": "python3"
  },
  "language_info": {
   "codemirror_mode": {
    "name": "ipython",
    "version": 3
   },
   "file_extension": ".py",
   "mimetype": "text/x-python",
   "name": "python",
   "nbconvert_exporter": "python",
   "pygments_lexer": "ipython3",
   "version": "3.6.9"
  }
 },
 "nbformat": 4,
 "nbformat_minor": 5
}
