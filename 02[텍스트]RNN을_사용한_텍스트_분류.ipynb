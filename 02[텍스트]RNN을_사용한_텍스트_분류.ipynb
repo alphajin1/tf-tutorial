{
 "cells": [
  {
   "cell_type": "markdown",
   "id": "369e10a6-fee1-4a0f-8bd5-4dc4913e0426",
   "metadata": {},
   "source": [
    "# [RNN을 사용한 텍스트 분류](https://www.tensorflow.org/tutorials/text/text_classification_rnn?hl=ko)"
   ]
  },
  {
   "cell_type": "code",
   "execution_count": 1,
   "id": "1bfcf1d0-dd59-48ee-9b86-582c2c647686",
   "metadata": {},
   "outputs": [
    {
     "name": "stdout",
     "output_type": "stream",
     "text": [
      "\u001b[33mWARNING: Running pip as root will break packages and permissions. You should install packages reliably by using venv: https://pip.pypa.io/warnings/venv\u001b[0m\n"
     ]
    }
   ],
   "source": [
    "!pip install -q tfds-nightly"
   ]
  },
  {
   "cell_type": "code",
   "execution_count": 2,
   "id": "84a80e07-7e12-4d58-a5e7-d049ad7d1548",
   "metadata": {},
   "outputs": [],
   "source": [
    "import tensorflow_datasets as tfds\n",
    "import tensorflow as tf"
   ]
  },
  {
   "cell_type": "code",
   "execution_count": 3,
   "id": "2db3eb27-d1a6-4037-89f8-a895412f64af",
   "metadata": {},
   "outputs": [],
   "source": [
    "import matplotlib.pyplot as plt\n",
    "\n",
    "def plot_graphs(history, metric):\n",
    "    plt.plot(history.history[metric])\n",
    "    plt.plot(history.history['val_'+metric], '')\n",
    "    plt.xlabel(\"Epochs\")\n",
    "    plt.ylabel(metric)\n",
    "    plt.legend([metric, 'val_'+metric])\n",
    "    plt.show()"
   ]
  },
  {
   "cell_type": "code",
   "execution_count": 4,
   "id": "f5ffe57f-110f-4f1c-9302-8b345715654c",
   "metadata": {},
   "outputs": [
    {
     "name": "stderr",
     "output_type": "stream",
     "text": [
      "WARNING:absl:TFDS datasets with text encoding are deprecated and will be removed in a future version. Instead, you should use the plain text version and tokenize the text using `tensorflow_text` (See: https://www.tensorflow.org/tutorials/tensorflow_text/intro#tfdata_example)\n"
     ]
    }
   ],
   "source": [
    "dataset, info = tfds.load('imdb_reviews/subwords8k', with_info=True,\n",
    "                          as_supervised=True)\n",
    "train_dataset, test_dataset = dataset['train'], dataset['test']"
   ]
  },
  {
   "cell_type": "code",
   "execution_count": 5,
   "id": "b1a16311-8c91-423a-8548-018732f67c09",
   "metadata": {},
   "outputs": [],
   "source": [
    "# 인코더가 포함되어 있다?\n",
    "encoder = info.features['text'].encoder"
   ]
  },
  {
   "cell_type": "code",
   "execution_count": 6,
   "id": "5c152b67-5c40-4408-ad8d-ce8781525dc1",
   "metadata": {},
   "outputs": [
    {
     "name": "stdout",
     "output_type": "stream",
     "text": [
      "Vocabulary size: 8185\n"
     ]
    }
   ],
   "source": [
    "print('Vocabulary size: {}'.format(encoder.vocab_size))"
   ]
  },
  {
   "cell_type": "code",
   "execution_count": 7,
   "id": "c8f88e47-da01-431d-9efe-cadc0edf0830",
   "metadata": {},
   "outputs": [
    {
     "name": "stdout",
     "output_type": "stream",
     "text": [
      "Encoded string is [4025, 222, 6307, 2327, 4043, 2120, 7975]\n",
      "The original string: \"Hello TensorFlow.\"\n"
     ]
    }
   ],
   "source": [
    "# 텍스트 인코더는 문자열을 가역적으로 인코딩하여 필요한 경우 바이트 인코딩\n",
    "sample_string = 'Hello TensorFlow.'\n",
    "\n",
    "encoded_string = encoder.encode(sample_string)\n",
    "print('Encoded string is {}'.format(encoded_string))\n",
    "\n",
    "original_string = encoder.decode(encoded_string)\n",
    "print('The original string: \"{}\"'.format(original_string))"
   ]
  },
  {
   "cell_type": "code",
   "execution_count": 8,
   "id": "07185860-e4a3-4d9b-b260-00d4504abb2d",
   "metadata": {},
   "outputs": [],
   "source": [
    "assert original_string == sample_string"
   ]
  },
  {
   "cell_type": "code",
   "execution_count": 9,
   "id": "edadf1b3-458c-44ea-9dd1-ebffde0d0c19",
   "metadata": {},
   "outputs": [
    {
     "name": "stdout",
     "output_type": "stream",
     "text": [
      "4025 ----> Hell\n",
      "222 ----> o \n",
      "6307 ----> Ten\n",
      "2327 ----> sor\n",
      "4043 ----> Fl\n",
      "2120 ----> ow\n",
      "7975 ----> .\n"
     ]
    }
   ],
   "source": [
    "for index in encoded_string:\n",
    "    print('{} ----> {}'.format(index, encoder.decode([index])))"
   ]
  },
  {
   "cell_type": "code",
   "execution_count": 10,
   "id": "071a461b-c435-4271-ae6a-cc9d9ca830f0",
   "metadata": {},
   "outputs": [],
   "source": [
    "# 훈련을 위한 데이터 준비하기\n",
    "BUFFER_SIZE = 10000\n",
    "BATCH_SIZE = 64\n",
    "\n",
    "# 다음으로 이러한 인코딩된 문자열을 일괄적으로 생성합니다. \n",
    "# padded_batch 메서드를 사용하여 배치에서 가장 긴 문자열의 길이로 시퀀스를 0으로 채웁니다.\n",
    "train_dataset = train_dataset.shuffle(BUFFER_SIZE)\n",
    "train_dataset = train_dataset.padded_batch(BATCH_SIZE)\n",
    "\n",
    "test_dataset = test_dataset.padded_batch(BATCH_SIZE)"
   ]
  },
  {
   "cell_type": "code",
   "execution_count": 11,
   "id": "dda45b7e-ec2f-4ee4-99a3-0fedfb1af914",
   "metadata": {},
   "outputs": [],
   "source": [
    "# 모델 생성하기\n",
    "model = tf.keras.Sequential([\n",
    "    # Embedding : 이 인덱스 조회는 원-핫 인코딩된 벡터를 \n",
    "    # tf.keras.layers.Dense 레이어를 통해 전달하는 동등한 연산보다 훨씬 효율적입니다.\n",
    "    tf.keras.layers.Embedding(encoder.vocab_size, 64),\n",
    "    tf.keras.layers.Bidirectional(tf.keras.layers.LSTM(64)),\n",
    "    tf.keras.layers.Dense(64, activation='relu'),\n",
    "    tf.keras.layers.Dense(1)\n",
    "])"
   ]
  },
  {
   "cell_type": "code",
   "execution_count": 12,
   "id": "cce74d14-b7d7-4677-8847-9da5aee3658f",
   "metadata": {},
   "outputs": [],
   "source": [
    "model.compile(loss=tf.keras.losses.BinaryCrossentropy(from_logits=True),\n",
    "              optimizer=tf.keras.optimizers.Adam(1e-4),\n",
    "              metrics=['accuracy'])"
   ]
  },
  {
   "cell_type": "code",
   "execution_count": 13,
   "id": "fc502526-89ec-4710-a6f7-2062ec69e0c8",
   "metadata": {},
   "outputs": [
    {
     "name": "stdout",
     "output_type": "stream",
     "text": [
      "lrwxrwxrwx 1 root root    9 Oct  1  2020 cuda -> cuda-11.0\n",
      "drwxr-xr-x 1 root root   21 Jan 22 22:39 cuda-11.0\n"
     ]
    }
   ],
   "source": [
    "!ls -l /usr/local | grep cuda"
   ]
  },
  {
   "cell_type": "markdown",
   "id": "e8df50ef-eb2a-4444-9c65-735490e9de99",
   "metadata": {},
   "source": [
    "## Tutorial ERROR 로 인한 중지"
   ]
  },
  {
   "cell_type": "code",
   "execution_count": 15,
   "id": "ca4ba028-3c6b-4cce-8a66-8b58063b132c",
   "metadata": {},
   "outputs": [],
   "source": [
    "# 무언가 문제가 있다.\n",
    "# history = model.fit(train_dataset, epochs=10,\n",
    "#                     validation_data=test_dataset, \n",
    "#                     validation_steps=30)"
   ]
  },
  {
   "cell_type": "code",
   "execution_count": null,
   "id": "0723b9d1-4040-4d41-b860-cec23cc2f17f",
   "metadata": {},
   "outputs": [],
   "source": []
  }
 ],
 "metadata": {
  "kernelspec": {
   "display_name": "Python 3",
   "language": "python",
   "name": "python3"
  },
  "language_info": {
   "codemirror_mode": {
    "name": "ipython",
    "version": 3
   },
   "file_extension": ".py",
   "mimetype": "text/x-python",
   "name": "python",
   "nbconvert_exporter": "python",
   "pygments_lexer": "ipython3",
   "version": "3.6.9"
  }
 },
 "nbformat": 4,
 "nbformat_minor": 5
}
